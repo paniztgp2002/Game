{
 "cells": [
  {
   "cell_type": "code",
   "execution_count": null,
   "metadata": {},
   "outputs": [],
   "source": [
    "# 1 - Import library\n",
    "import pygame\n",
    "from pygame.locals import *\n",
    "\n",
    "# 2 - Initialize the game\n",
    "pygame.init()\n",
    "width, height = 640, 480\n",
    "screen=pygame.display.set_mode((width, height))\n",
    "\n",
    "# 3 - Load images\n",
    "player = pygame.image.load(\"resources/images/dude.png\")\n",
    "grass = pygame.image.load(\"resources/images/grass.png\")\n",
    "castle = pygame.image.load(\"resources/images/castle.png\")\n",
    "\n",
    "# 4 - keep looping through\n",
    "while 1:\n",
    "    # 5 - clear the screen before drawing it again\n",
    "    screen.fill(0)\n",
    "    for x in range(int(width/grass.get_width()+1)):\n",
    "        for y in range(int(height/grass.get_height()+1)):\n",
    "            screen.blit(grass,(x*100,y*100))\n",
    "    screen.blit(castle,(0,30))\n",
    "    screen.blit(castle,(0,135))\n",
    "    screen.blit(castle,(0,240))\n",
    "    screen.blit(castle,(0,345 ))\n",
    "    # 6 - draw the screen elements\n",
    "    screen.blit(player, (100,100))\n",
    "    # 7 - update the screen\n",
    "    pygame.display.flip()\n",
    "    # 8 - loop through the events\n",
    "    for event in pygame.event.get():\n",
    "        # check if the event is the X button \n",
    "        if event.type==pygame.QUIT:\n",
    "            # if it is quit the game\n",
    "            pygame.quit() \n",
    "            exit(0)"
   ]
  }
 ],
 "metadata": {
  "kernelspec": {
   "display_name": "Python 3",
   "language": "python",
   "name": "python3"
  },
  "language_info": {
   "codemirror_mode": {
    "name": "ipython",
    "version": 3
   },
   "file_extension": ".py",
   "mimetype": "text/x-python",
   "name": "python",
   "nbconvert_exporter": "python",
   "pygments_lexer": "ipython3",
   "version": "3.11.1"
  },
  "orig_nbformat": 4,
  "vscode": {
   "interpreter": {
    "hash": "318f2c383d48220c821fefd227250c35bb828f95042f5889a5ad1704b1baf79c"
   }
  }
 },
 "nbformat": 4,
 "nbformat_minor": 2
}
