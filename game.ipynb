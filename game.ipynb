{
 "cells": [
  {
   "cell_type": "code",
   "execution_count": null,
   "metadata": {},
   "outputs": [],
   "source": [
    "import pygame\n",
    "from pygame.locals import *\n",
    "# 2 - Initialize the game\n",
    "pygame.init()\n",
    "width, height = 640, 480\n",
    "screen=pygame.display.set_mode((width, height))\n",
    "# 3 - Load images\n",
    "player = pygame.image.load(\"resources/images/dude.png\")\n",
    "# 4 - keep looping through\n",
    "while 1:\n",
    "    # 5 - clear the screen before drawing it again\n",
    "    screen.fill(0)\n",
    "    # 6 - draw the screen elements\n",
    "    screen.blit(player, (100,100))\n",
    "    # 7 - update the screen\n",
    "    pygame.display.flip()\n",
    "    # 8 - loop through the events\n",
    "    for event in pygame.event.get():\n",
    "        # check if the event is the X button \n",
    "        if event.type==pygame.QUIT:\n",
    "            # if it is quit the game\n",
    "            pygame.quit() \n",
    "            exit(0)"
   ]
  }
 ],
 "metadata": {
  "language_info": {
   "name": "python"
  },
  "orig_nbformat": 4
 },
 "nbformat": 4,
 "nbformat_minor": 2
}
