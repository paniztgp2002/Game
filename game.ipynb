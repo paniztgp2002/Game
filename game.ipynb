{
 "cells": [
  {
   "cell_type": "code",
   "execution_count": 1,
   "metadata": {},
   "outputs": [
    {
     "name": "stdout",
     "output_type": "stream",
     "text": [
      "pygame 2.1.3.dev8 (SDL 2.0.22, Python 3.11.1)\n",
      "Hello from the pygame community. https://www.pygame.org/contribute.html\n"
     ]
    },
    {
     "ename": "error",
     "evalue": "display Surface quit",
     "output_type": "error",
     "traceback": [
      "\u001b[1;31m---------------------------------------------------------------------------\u001b[0m",
      "\u001b[1;31merror\u001b[0m                                     Traceback (most recent call last)",
      "Cell \u001b[1;32mIn[1], line 18\u001b[0m\n\u001b[0;32m     13\u001b[0m \u001b[39m# 4 - keep looping through\u001b[39;00m\n\u001b[0;32m     14\u001b[0m \u001b[39mwhile\u001b[39;00m \u001b[39m1\u001b[39m:\n\u001b[0;32m     15\u001b[0m     \u001b[39m# 5 - clear the screen before drawing it again\u001b[39;00m\n\u001b[0;32m     16\u001b[0m     \u001b[39m#screen.fill(0)\u001b[39;00m\n\u001b[0;32m     17\u001b[0m     \u001b[39m# 6 - draw the screen elements\u001b[39;00m\n\u001b[1;32m---> 18\u001b[0m     screen\u001b[39m.\u001b[39;49mblit(player, (\u001b[39m100\u001b[39;49m,\u001b[39m100\u001b[39;49m))\n\u001b[0;32m     19\u001b[0m     \u001b[39m# 7 - update the screen\u001b[39;00m\n\u001b[0;32m     20\u001b[0m     pygame\u001b[39m.\u001b[39mdisplay\u001b[39m.\u001b[39mflip()\n",
      "\u001b[1;31merror\u001b[0m: display Surface quit"
     ]
    },
    {
     "ename": "",
     "evalue": "",
     "output_type": "error",
     "traceback": [
      "\u001b[1;31mThe Kernel crashed while executing code in the the current cell or a previous cell. Please review the code in the cell(s) to identify a possible cause of the failure. Click <a href='https://aka.ms/vscodeJupyterKernelCrash'>here</a> for more info. View Jupyter <a href='command:jupyter.viewOutput'>log</a> for further details."
     ]
    }
   ],
   "source": [
    "# 1 - Import library\n",
    "import pygame\n",
    "from pygame.locals import *\n",
    "\n",
    "# 2 - Initialize the game\n",
    "pygame.init()\n",
    "width, height = 640, 480\n",
    "screen=pygame.display.set_mode((width, height))\n",
    "\n",
    "# 3 - Load images\n",
    "player = pygame.image.load(\"resources/images/dude.png\")\n",
    "\n",
    "# 4 - keep looping through\n",
    "while True:\n",
    "    # 5 - clear the screen before drawing it again\n",
    "    screen.fill(False)\n",
    "    # 6 - draw the screen elements\n",
    "    screen.blit(player, (100,100))\n",
    "    # 7 - update the screen\n",
    "    pygame.display.flip()\n",
    "    # 8 - loop through the events\n",
    "    for event in pygame.event.get():\n",
    "        # check if the event is the X button \n",
    "        if event.type==pygame.QUIT:\n",
    "            # if it is quit the game\n",
    "            pygame.quit() \n",
    "            exit(False)"
   ]
  },
  {
   "cell_type": "code",
   "execution_count": null,
   "metadata": {},
   "outputs": [],
   "source": [
    "grass = pygame.image.load(\"resources/images/grass.png\")\n",
    "castle = pygame.image.load(\"resources/images/castle.png\")"
   ]
  },
  {
   "cell_type": "code",
   "execution_count": null,
   "metadata": {},
   "outputs": [],
   "source": [
    "for x in range(int(width/grass.get_width()+1)):\n",
    "    for y in range(int(height/grass.get_height()+1)):\n",
    "        screen.blit(grass,(x*100,y*100))\n",
    "screen.blit(castle,(0,30))\n",
    "screen.blit(castle,(0,135))\n",
    "screen.blit(castle,(0,240))\n",
    "screen.blit(castle,(0,345 ))"
   ]
  }
 ],
 "metadata": {
  "kernelspec": {
   "display_name": "Python 3",
   "language": "python",
   "name": "python3"
  },
  "language_info": {
   "codemirror_mode": {
    "name": "ipython",
    "version": 3
   },
   "file_extension": ".py",
   "mimetype": "text/x-python",
   "name": "python",
   "nbconvert_exporter": "python",
   "pygments_lexer": "ipython3",
   "version": "3.11.1"
  },
  "orig_nbformat": 4,
  "vscode": {
   "interpreter": {
    "hash": "318f2c383d48220c821fefd227250c35bb828f95042f5889a5ad1704b1baf79c"
   }
  }
 },
 "nbformat": 4,
 "nbformat_minor": 2
}
