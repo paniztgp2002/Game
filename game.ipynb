{
 "cells": [
  {
   "cell_type": "code",
   "execution_count": 1,
   "metadata": {},
   "outputs": [
    {
     "name": "stdout",
     "output_type": "stream",
     "text": [
      "pygame 2.1.3.dev8 (SDL 2.0.22, Python 3.11.1)\n",
      "Hello from the pygame community. https://www.pygame.org/contribute.html\n"
     ]
    },
    {
     "ename": "error",
     "evalue": "display Surface quit",
     "output_type": "error",
     "traceback": [
      "\u001b[1;31m---------------------------------------------------------------------------\u001b[0m",
      "\u001b[1;31merror\u001b[0m                                     Traceback (most recent call last)",
      "Cell \u001b[1;32mIn[1], line 24\u001b[0m\n\u001b[0;32m     21\u001b[0m \u001b[39m# 4 - keep looping through\u001b[39;00m\n\u001b[0;32m     22\u001b[0m \u001b[39mwhile\u001b[39;00m \u001b[39m1\u001b[39m:\n\u001b[0;32m     23\u001b[0m     \u001b[39m# 5 - clear the screen before drawing it again\u001b[39;00m\n\u001b[1;32m---> 24\u001b[0m     screen\u001b[39m.\u001b[39;49mfill(\u001b[39m0\u001b[39;49m)\n\u001b[0;32m     25\u001b[0m     \u001b[39mfor\u001b[39;00m x \u001b[39min\u001b[39;00m \u001b[39mrange\u001b[39m(\u001b[39mint\u001b[39m(width\u001b[39m/\u001b[39mgrass\u001b[39m.\u001b[39mget_width()\u001b[39m+\u001b[39m\u001b[39m1\u001b[39m)):\n\u001b[0;32m     26\u001b[0m         \u001b[39mfor\u001b[39;00m y \u001b[39min\u001b[39;00m \u001b[39mrange\u001b[39m(\u001b[39mint\u001b[39m(height\u001b[39m/\u001b[39mgrass\u001b[39m.\u001b[39mget_height()\u001b[39m+\u001b[39m\u001b[39m1\u001b[39m)):\n",
      "\u001b[1;31merror\u001b[0m: display Surface quit"
     ]
    },
    {
     "ename": "",
     "evalue": "",
     "output_type": "error",
     "traceback": [
      "\u001b[1;31mThe Kernel crashed while executing code in the the current cell or a previous cell. Please review the code in the cell(s) to identify a possible cause of the failure. Click <a href='https://aka.ms/vscodeJupyterKernelCrash'>here</a> for more info. View Jupyter <a href='command:jupyter.viewOutput'>log</a> for further details."
     ]
    }
   ],
   "source": [
    "# 1 - Import library\n",
    "import pygame\n",
    "import math\n",
    "from pygame.locals import *\n",
    "\n",
    "# 2 - Initialize the game\n",
    "pygame.init()\n",
    "width, height = 640, 480\n",
    "acc=[0,0]\n",
    "arrows=[]\n",
    "keys = [False, False, False, False]\n",
    "playerpos=[100,100]\n",
    "screen=pygame.display.set_mode((width, height))\n",
    "\n",
    "# 3 - Load images\n",
    "player = pygame.image.load(\"resources/images/dude.png\")\n",
    "grass = pygame.image.load(\"resources/images/grass.png\")\n",
    "castle = pygame.image.load(\"resources/images/castle.png\")\n",
    "arrow = pygame.image.load(\"resources/images/bullet.png\")\n",
    "\n",
    "# 4 - keep looping through\n",
    "while 1:\n",
    "    # 5 - clear the screen before drawing it again\n",
    "    screen.fill(0)\n",
    "    for x in range(int(width/grass.get_width()+1)):\n",
    "        for y in range(int(height/grass.get_height()+1)):\n",
    "            screen.blit(grass,(x*100,y*100))\n",
    "    screen.blit(castle,(0,30))\n",
    "    screen.blit(castle,(0,135))\n",
    "    screen.blit(castle,(0,240))\n",
    "    screen.blit(castle,(0,345 ))\n",
    "    # 6 - draw the screen elements\n",
    "    # 6.1 - Set player position and rotation\n",
    "    position = pygame.mouse.get_pos()\n",
    "    angle = math.atan2(position[1]-(playerpos[1]+32),position[0]-(playerpos[0]+26))\n",
    "    playerrot = pygame.transform.rotate(player, 360-angle*57.29)\n",
    "    playerpos1 = (playerpos[0]-playerrot.get_rect().width/2, playerpos[1]-playerrot.get_rect().height/2)\n",
    "    screen.blit(playerrot, playerpos1)\n",
    "    #screen.blit(player, playerpos)\n",
    "    # 7 - update the screen\n",
    "    pygame.display.flip()\n",
    "    # 8 - loop through the events\n",
    "    for event in pygame.event.get():\n",
    "        # check if the event is the X button \n",
    "        if event.type==pygame.QUIT:\n",
    "            # if it is quit the game\n",
    "            pygame.quit() \n",
    "            exit(0)\n",
    "        if event.type == pygame.KEYDOWN:\n",
    "          if event.key==K_UP:\n",
    "            keys[0]=True\n",
    "          elif event.key==K_LEFT:\n",
    "            keys[1]=True\n",
    "          elif event.key==K_DOWN:\n",
    "            keys[2]=True\n",
    "          elif event.key==K_RIGHT:\n",
    "            keys[3]=True\n",
    "        if event.type == pygame.KEYUP:\n",
    "          if event.key==pygame.K_UP:\n",
    "             keys[0]=False\n",
    "          elif event.key==pygame.K_LEFT:\n",
    "             keys[1]=False\n",
    "          elif event.key==pygame.K_DOWN:\n",
    "             keys[2]=False\n",
    "          elif event.key==pygame.K_RIGHT:\n",
    "             keys[3]=False\n",
    "        # 9 - Move player\n",
    "        if keys[0]:\n",
    "          playerpos[1]-=5\n",
    "        elif keys[2]:\n",
    "          playerpos[1]+=5\n",
    "        if keys[1]:\n",
    "          playerpos[0]-=5\n",
    "        elif keys[3]:\n",
    "          playerpos[0]+=5\n",
    "        if event.type==pygame.MOUSEBUTTONDOWN:\n",
    "           position=pygame.mouse.get_pos()\n",
    "           acc[1]+=1\n",
    "           arrows.append([math.atan2(position[1]-(playerpos1[1]+32),position[0]-(playerpos1[0]+26)),playerpos1[0]+32,playerpos1[1]+32])"
   ]
  }
 ],
 "metadata": {
  "kernelspec": {
   "display_name": "Python 3",
   "language": "python",
   "name": "python3"
  },
  "language_info": {
   "codemirror_mode": {
    "name": "ipython",
    "version": 3
   },
   "file_extension": ".py",
   "mimetype": "text/x-python",
   "name": "python",
   "nbconvert_exporter": "python",
   "pygments_lexer": "ipython3",
   "version": "3.11.1"
  },
  "orig_nbformat": 4,
  "vscode": {
   "interpreter": {
    "hash": "318f2c383d48220c821fefd227250c35bb828f95042f5889a5ad1704b1baf79c"
   }
  }
 },
 "nbformat": 4,
 "nbformat_minor": 2
}
